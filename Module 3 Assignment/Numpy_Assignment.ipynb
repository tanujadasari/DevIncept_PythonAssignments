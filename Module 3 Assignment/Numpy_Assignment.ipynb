{
 "cells": [
  {
   "cell_type": "markdown",
   "id": "c6c6536d",
   "metadata": {},
   "source": [
    "# Assignment : NumPy  by Tanuja Dasari"
   ]
  },
  {
   "cell_type": "markdown",
   "id": "96092620",
   "metadata": {},
   "source": [
    "----------------------------------------------------------------------------------------"
   ]
  },
  {
   "cell_type": "markdown",
   "id": "ee02e6f1",
   "metadata": {},
   "source": [
    "# NumPy Arrays"
   ]
  },
  {
   "cell_type": "markdown",
   "id": "e727ffdf",
   "metadata": {},
   "source": [
    "- **Printing Basic Array**"
   ]
  },
  {
   "cell_type": "code",
   "execution_count": 2,
   "id": "73612e4e",
   "metadata": {},
   "outputs": [
    {
     "name": "stdout",
     "output_type": "stream",
     "text": [
      "[0 4 0 6 2 0 0 1]\n",
      "['T' 'a' 'n' 'u' 'j' 'a' 'D' 'a' 's' 'a' 'r' 'i']\n",
      "[0 4 0 6 2 0 0 1]\n",
      "<class 'numpy.ndarray'>\n"
     ]
    }
   ],
   "source": [
    "   import numpy as td\n",
    "   arr1=td.array([0,4,0,6,2,0,0,1])\n",
    "   arr2=td.array(['T','a','n','u','j','a','D','a','s','a','r','i'])\n",
    "   arr3= td.array((0, 4, 0, 6, 2,0,0,1)) \n",
    "   print(arr1)\n",
    "   print(arr2)\n",
    "   print(arr3)\n",
    "   print(type(arr1))"
   ]
  },
  {
   "cell_type": "markdown",
   "id": "a728c0e2",
   "metadata": {},
   "source": [
    "- **Arrays using np.zeros(), np.ones(), np.arange()**"
   ]
  },
  {
   "cell_type": "code",
   "execution_count": 3,
   "id": "d2002289",
   "metadata": {},
   "outputs": [
    {
     "name": "stdout",
     "output_type": "stream",
     "text": [
      "[0. 0. 0. 0. 0. 0. 0. 0. 0.]\n",
      "[1. 1. 1. 1. 1. 1. 1. 1. 1.]\n",
      "[0 1 2 3 4 5 6 7 8]\n",
      "[0 1 2 3 4 5 6 7 8]\n",
      "[0 1 2 3 4 5 6 7 8]\n"
     ]
    }
   ],
   "source": [
    "   import numpy as td\n",
    "   a=td.zeros(9)\n",
    "   b=td.ones(9)\n",
    "   c=td.arange(9)\n",
    "   d=td.arange(0,9) \n",
    "   e=td.arange(0,9,1)\n",
    "   print(a)\n",
    "   print(b)\n",
    "   print(c)\n",
    "   print(d)\n",
    "   print(e)"
   ]
  },
  {
   "cell_type": "markdown",
   "id": "66009d46",
   "metadata": {},
   "source": [
    "## N Dimensional Arrays"
   ]
  },
  {
   "cell_type": "markdown",
   "id": "ad856f35",
   "metadata": {},
   "source": [
    "- **2D Array(2 Dimensional Array) and Checking the number of dimensions using  \"ndim\"**"
   ]
  },
  {
   "cell_type": "code",
   "execution_count": 4,
   "id": "123037e6",
   "metadata": {},
   "outputs": [
    {
     "name": "stdout",
     "output_type": "stream",
     "text": [
      "[[ 9 18 27]\n",
      " [36 45 54]]\n",
      "\n",
      " [[ 9 18 27]\n",
      " [27  9 18]\n",
      " [18 27  9]]\n",
      "\n",
      " [['T' 'a' 'n' 'u' 'j' 'a']\n",
      " ['d' 'a' 's' 'a' 'r' 'i']]\n",
      "\n",
      " [[0. 0. 0. 0. 0. 0. 0. 0. 0.]\n",
      " [0. 0. 0. 0. 0. 0. 0. 0. 0.]\n",
      " [0. 0. 0. 0. 0. 0. 0. 0. 0.]\n",
      " [0. 0. 0. 0. 0. 0. 0. 0. 0.]\n",
      " [0. 0. 0. 0. 0. 0. 0. 0. 0.]\n",
      " [0. 0. 0. 0. 0. 0. 0. 0. 0.]\n",
      " [0. 0. 0. 0. 0. 0. 0. 0. 0.]\n",
      " [0. 0. 0. 0. 0. 0. 0. 0. 0.]\n",
      " [0. 0. 0. 0. 0. 0. 0. 0. 0.]]\n",
      "\n",
      " [[1 1 1 1]\n",
      " [1 1 1 1]\n",
      " [1 1 1 1]\n",
      " [1 1 1 1]]\n",
      "\n",
      " 2\n",
      "\n",
      " 2\n",
      "\n",
      " 2\n",
      "\n",
      " 0\n",
      "\n",
      " 1\n",
      "\n",
      " 3\n",
      "\n",
      " 2\n"
     ]
    }
   ],
   "source": [
    "   import numpy as td\n",
    "   arr1=td.array([[9,18,27],[36,45,54]])\n",
    "   arr2=td.array([[9,18,27],[27,9,18],[18,27,9]])\n",
    "   arr3=td.array([['T','a','n','u','j','a'],['d','a','s','a','r','i']])\n",
    "   zeros=td.zeros((9,9))\n",
    "   ones=td.ones((4,4),dtype='int64')  \n",
    "   arr4= td.array(94)\n",
    "   arr5= td.array([16, 12, 1999, 7, 9])\n",
    "   arr6 = td.array([[[9, 18, 27], [9, 27, 729]], [[729, 9, 27], [27, 729, 9]]])\n",
    "   print(arr1)\n",
    "   print(\"\\n\",arr2)\n",
    "   print(\"\\n\",arr3)\n",
    "   print(\"\\n\",zeros)\n",
    "   print(\"\\n\",ones)\n",
    "   print(\"\\n\",arr1.ndim)\n",
    "   print(\"\\n\",arr2.ndim)\n",
    "   print(\"\\n\",arr3.ndim)\n",
    "   print(\"\\n\",arr4.ndim) \n",
    "   print(\"\\n\",arr5.ndim)\n",
    "   print(\"\\n\",arr6.ndim) \n",
    "   print(\"\\n\",zeros.ndim) "
   ]
  },
  {
   "cell_type": "markdown",
   "id": "d90af184",
   "metadata": {},
   "source": [
    "## Basic Arithematic operations using Arrays"
   ]
  },
  {
   "cell_type": "code",
   "execution_count": 28,
   "id": "7f787909",
   "metadata": {},
   "outputs": [
    {
     "name": "stdout",
     "output_type": "stream",
     "text": [
      "arr1: [9 9 9 9]\n",
      "arr2: [7 7 7 7]\n",
      "Addition: [16 16 16 16]\n",
      "Subtraction: [2 2 2 2]\n",
      "Division: [2 2 2 2]\n",
      "Multiplication: [63 63 63 63]\n",
      "Addition of \"1\": [17 17 17 17]\n",
      "Subtracting of \"1\": [1 1 1 1]\n"
     ]
    }
   ],
   "source": [
    "   import numpy as ds\n",
    "   arr1=ds.array([9,9,9,9])\n",
    "   arr2=ds.array([7,7,7,7])\n",
    "   x=arr1+arr2\n",
    "   y=arr1-arr2\n",
    "   z=arr1/arr2\n",
    "   w= arr1*arr2\n",
    "   print(\"arr1:\",arr1)\n",
    "   print(\"arr2:\",arr2)\n",
    "   print(\"Addition:\",x)\n",
    "   print(\"Subtraction:\",y)\n",
    "   print(\"Division:\",y) \n",
    "   print(\"Multiplication:\",w) \n",
    "   print(\"Addition of \\\"1\\\":\",x+1)\n",
    "   print(\"Subtracting of \\\"1\\\":\",y-1)"
   ]
  },
  {
   "cell_type": "markdown",
   "id": "891120ca",
   "metadata": {},
   "source": [
    "## Array Indexing"
   ]
  },
  {
   "cell_type": "code",
   "execution_count": 32,
   "id": "396d64ef",
   "metadata": {},
   "outputs": [
    {
     "name": "stdout",
     "output_type": "stream",
     "text": [
      "3\n",
      "4\n",
      "1\n",
      "D\n",
      "81\n",
      "90\n"
     ]
    }
   ],
   "source": [
    "   import numpy as ds\n",
    "   arr1= ds.array([3,2,3,4])\n",
    "   arr2= ds.array([2,1,1,3])\n",
    "   arr3= ds.array(['D','u','r','g','a','S','a','i'])\n",
    "   arr4= ds.array([[9,18,27,36,45], [54,63,72,81,90]])\n",
    "   print(arr1[2]) \n",
    "   print(arr1[-1]) \n",
    "   print(arr2[1])\n",
    "   print(arr3[0]) \n",
    "   print(arr4[1][3]) \n",
    "   print(arr4[1,4]) "
   ]
  },
  {
   "cell_type": "markdown",
   "id": "5c07f724",
   "metadata": {},
   "source": [
    "## Array Slicing "
   ]
  },
  {
   "cell_type": "code",
   "execution_count": 37,
   "id": "0bf5f1c2",
   "metadata": {},
   "outputs": [
    {
     "name": "stdout",
     "output_type": "stream",
     "text": [
      "['D' 'u' 'r' 'g' 'a']\n",
      "['D' 'u' 'r' 'g' 'a']\n",
      "['S' 'a' 'i']\n",
      "['D' 'r' 'a' 'a']\n",
      "[21 36 28]\n",
      "[ 9 18 27 36 45]\n",
      "[14 21 28]\n",
      "[27 21]\n",
      "[[18 27 36]\n",
      " [14 21 28]]\n"
     ]
    }
   ],
   "source": [
    "   import numpy as ds\n",
    "   arr1=ds.array(['D','u','r','g','a','S','a','i'])\n",
    "   arr2=ds.array([9,7,18,14,27,21,36,28,45])\n",
    "   arr3=ds.array([[9, 18, 27, 36, 45], [7, 14, 21, 28, 36]])\n",
    "   \n",
    "   print(arr1[:5])\n",
    "   print(arr1[0:5])\n",
    "   print(arr1[5:])\n",
    "   print(arr1[::2])   \n",
    "   print(arr2[-4:-1])\n",
    "   print(arr2[::2])\n",
    "   print(arr3[1,1:4])\n",
    "   print(arr3[0:2, 2])\n",
    "   print(arr3[0:2, 1:4])"
   ]
  },
  {
   "cell_type": "markdown",
   "id": "5521962b",
   "metadata": {},
   "source": [
    "# NumPy Functions"
   ]
  },
  {
   "cell_type": "markdown",
   "id": "d67726ba",
   "metadata": {},
   "source": [
    "## Array Shape\n",
    "- **Array shape along with size and dimensions**"
   ]
  },
  {
   "cell_type": "code",
   "execution_count": 41,
   "id": "78c51027",
   "metadata": {},
   "outputs": [
    {
     "name": "stdout",
     "output_type": "stream",
     "text": [
      "shape of arr1: (2, 4)\n",
      "shape of arr2: (4,)\n",
      "size of arr2: 4\n",
      "dimensions of arr2: 1\n"
     ]
    }
   ],
   "source": [
    "   import numpy as ds\n",
    "   arr1 = ds.array([[9, 18, 27, 36], [45, 54, 63, 72]])\n",
    "   arr2= ds.array([9,99,999,9999])\n",
    "\n",
    "   print(\"shape of arr1:\",arr1.shape)\n",
    "   print(\"shape of arr2:\",arr2.shape)\n",
    "   print(\"size of arr2:\",arr2.size)\n",
    "   print(\"dimensions of arr2:\",arr2.ndim)"
   ]
  },
  {
   "cell_type": "markdown",
   "id": "d53da2ac",
   "metadata": {},
   "source": [
    "## Array Reshape\n",
    "- **Reshape from 1-Dimensional to 2-Dimensional**"
   ]
  },
  {
   "cell_type": "code",
   "execution_count": 10,
   "id": "6ca75d55",
   "metadata": {},
   "outputs": [
    {
     "name": "stdout",
     "output_type": "stream",
     "text": [
      "[[ 9 18 27]\n",
      " [36 45 54]\n",
      " [63 72 81]\n",
      " [90 99  0]]\n",
      "\n",
      " [['T' 'a' 'n']\n",
      " ['u' 'j' 'a']\n",
      " ['D' 'a' 's']]\n"
     ]
    }
   ],
   "source": [
    "   import numpy as np\n",
    "   arr1 = np.array([9, 18, 27, 36, 45, 54, 63, 72, 81, 90, 99, 0])\n",
    "   newarr1 = arr1.reshape(4, 3)\n",
    "   arr2 = np.array(['T','a','n','u','j','a','D','a','s'])\n",
    "   newarr2 = arr2.reshape(3,3)\n",
    "   print(newarr1)\n",
    "   print(\"\\n\",newarr2)"
   ]
  },
  {
   "cell_type": "markdown",
   "id": "a6278bb1",
   "metadata": {},
   "source": [
    "- **Reshape from 1-Dimensional to 3-Dimensional**"
   ]
  },
  {
   "cell_type": "code",
   "execution_count": 9,
   "id": "91586422",
   "metadata": {},
   "outputs": [
    {
     "name": "stdout",
     "output_type": "stream",
     "text": [
      "[[[ 9 90]\n",
      "  [ 0 81]\n",
      "  [18 27]]\n",
      "\n",
      " [[72 63]\n",
      "  [36 54]\n",
      "  [45 99]]]\n"
     ]
    }
   ],
   "source": [
    "   import numpy as td\n",
    "   arr = td.array([9, 90, 0, 81, 18, 27, 72, 63, 36, 54, 45, 99])\n",
    "   newarr = arr.reshape(2, 3, 2)\n",
    "   print(newarr)"
   ]
  },
  {
   "cell_type": "markdown",
   "id": "15e0bcc0",
   "metadata": {},
   "source": [
    "- **Multi-Dimensional Array into 1-Dimensional Array**"
   ]
  },
  {
   "cell_type": "code",
   "execution_count": 8,
   "id": "4ecb6983",
   "metadata": {},
   "outputs": [
    {
     "name": "stdout",
     "output_type": "stream",
     "text": [
      "[10 20 30 40 50 60]\n"
     ]
    }
   ],
   "source": [
    "   import numpy as td\n",
    "   arr = td.array([[10, 20, 30], [40, 50, 60]])\n",
    "   newarr = arr.reshape(-1)\n",
    "   print(newarr)"
   ]
  },
  {
   "cell_type": "markdown",
   "id": "d1cc422a",
   "metadata": {},
   "source": [
    "## Sorting\n",
    "- **Using where()**"
   ]
  },
  {
   "cell_type": "code",
   "execution_count": 7,
   "id": "5bc2e79a",
   "metadata": {},
   "outputs": [
    {
     "name": "stdout",
     "output_type": "stream",
     "text": [
      "(array([], dtype=int64),)\n",
      "(array([1, 3, 5, 6], dtype=int64),)\n",
      "(array([0, 2, 4], dtype=int64),)\n"
     ]
    }
   ],
   "source": [
    "   import numpy as td\n",
    "   arr1 = td.array([9, 16, 21, 24, 25, 36, 42])\n",
    "   a = td.where(arr1 == 4)\n",
    "   b = td.where(arr1%2 == 0)\n",
    "   c = td.where(arr1%2 == 1)\n",
    "   print(a)\n",
    "   print(b)\n",
    "   print(c)"
   ]
  },
  {
   "cell_type": "markdown",
   "id": "892ee516",
   "metadata": {},
   "source": [
    "## Searching\n",
    "- Using **searchsorted()**"
   ]
  },
  {
   "cell_type": "code",
   "execution_count": 6,
   "id": "bee29b62",
   "metadata": {},
   "outputs": [
    {
     "name": "stdout",
     "output_type": "stream",
     "text": [
      "1\n",
      "[1 2 3]\n"
     ]
    }
   ],
   "source": [
    "   import numpy as td\n",
    "   arr1 = td.array([36, 49, 64, 81])\n",
    "   a = td.searchsorted(arr1, 49)\n",
    "   print(a)\n",
    "   arr2 = ds.array([11, 33, 55, 77])\n",
    "   b = td.searchsorted(arr2, [22, 44, 66])\n",
    "   print(b)"
   ]
  },
  {
   "cell_type": "markdown",
   "id": "d67ad300",
   "metadata": {},
   "source": [
    "## Mean Median Mode & Standard Deviation (σ)"
   ]
  },
  {
   "cell_type": "code",
   "execution_count": 5,
   "id": "ff490ad8",
   "metadata": {},
   "outputs": [
    {
     "name": "stdout",
     "output_type": "stream",
     "text": [
      "Mean: 80.3076923076923\n",
      "Median: 81.0\n",
      "Mode: ModeResult(mode=array([81]), count=array([4]))\n",
      "Standard Deviation: 17.459335679425603\n"
     ]
    }
   ],
   "source": [
    "  import numpy as td\n",
    "  from scipy import stats\n",
    "  data = [99,90,81,72,108,81,63,54,99,81,90,45,81]\n",
    "  x = td.mean(data) \n",
    "  y = td.median(data)\n",
    "  z = stats.mode(data)\n",
    "  s = td.std(data)\n",
    "  print(\"Mean:\",x)\n",
    "  print(\"Median:\",y)  \n",
    "  print(\"Mode:\",z)\n",
    "  print(\"Standard Deviation:\",s)\n",
    "    \n"
   ]
  }
 ],
 "metadata": {
  "kernelspec": {
   "display_name": "Python 3",
   "language": "python",
   "name": "python3"
  },
  "language_info": {
   "codemirror_mode": {
    "name": "ipython",
    "version": 3
   },
   "file_extension": ".py",
   "mimetype": "text/x-python",
   "name": "python",
   "nbconvert_exporter": "python",
   "pygments_lexer": "ipython3",
   "version": "3.8.8"
  }
 },
 "nbformat": 4,
 "nbformat_minor": 5
}
